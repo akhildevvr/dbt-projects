{
 "cells": [
  {
   "cell_type": "code",
   "execution_count": 66,
   "metadata": {},
   "outputs": [],
   "source": [
    "import yaml\n",
    "import datetime"
   ]
  },
  {
   "cell_type": "code",
   "execution_count": 62,
   "metadata": {},
   "outputs": [],
   "source": [
    "def get_package_details_from_yml():\n",
    "    try:\n",
    "\n",
    "        package_paths = []\n",
    "\n",
    "        # Open the file\n",
    "        with open(\"../packages.yml\",\"r\") as f:\n",
    "            y = yaml.safe_load(f)\n",
    "\n",
    "        for key, value in y.items():\n",
    "            print(key)\n",
    "\n",
    "            if key == 'packages':\n",
    "                \n",
    "                for l in value:\n",
    "                    package_paths.append(l['local'])    \n",
    "\n",
    "                    el = l['local'].split(\"/\")\n",
    "\n",
    "                    bi_block = DocumentationBlock(el[len(el) - 1])\n",
    "                    print(bi_block)\n",
    "                    \n",
    "\n",
    "\n",
    "\n",
    "                    \n",
    "        return package_paths\n",
    "    except Exception as e:\n",
    "        print(e)"
   ]
  },
  {
   "cell_type": "code",
   "execution_count": 63,
   "metadata": {},
   "outputs": [
    {
     "name": "stdout",
     "output_type": "stream",
     "text": [
      "packages\n",
      "<__main__.DocumentationBlock object at 0x1049e26d0>\n",
      "<__main__.DocumentationBlock object at 0x104f27580>\n",
      "<__main__.DocumentationBlock object at 0x1049e26d0>\n",
      "<__main__.DocumentationBlock object at 0x104f27580>\n",
      "<__main__.DocumentationBlock object at 0x1049e26d0>\n",
      "<__main__.DocumentationBlock object at 0x104f27580>\n",
      "['../engagement/nps', '../engagement/opportunities', '../engagement/tenrox_procedures', '../operational/wfm_gps', '../monitoring/enterprise_dataset_usage_stats', '../bi_layer']\n"
     ]
    }
   ],
   "source": [
    "package_paths = get_package_details_from_yml()\n",
    "print(package_paths)\n"
   ]
  },
  {
   "cell_type": "code",
   "execution_count": 47,
   "metadata": {},
   "outputs": [
    {
     "name": "stdout",
     "output_type": "stream",
     "text": [
      "\n",
      "\n",
      "### Welcome to the Professional Services Automation Layer (Tenrox) !\n",
      "\n",
      "\n",
      "\n",
      "This DBT project contains models, analyses and documentation that implement the self-service xxxxxx layer.\n",
      "\n",
      "\n",
      "\n",
      "The xxxxx layer sits on top of the following stack:\n",
      "\n",
      "\n",
      "\n",
      "\n",
      "\n",
      "\n",
      "\n",
      "### What is included ?\n",
      "\n",
      "\n",
      "\n",
      "Everything to do with tenrox\n",
      "\n",
      "\n",
      "\n",
      "['\\n', '### Welcome to the Professional Services Automation Layer (Tenrox) !\\n', '\\n', 'This DBT project contains models, analyses and documentation that implement the self-service xxxxxx layer.\\n', '\\n', 'The xxxxx layer sits on top of the following stack:\\n', '\\n', '\\n', '\\n', '### What is included ?\\n', '\\n', 'Everything to do with tenrox\\n', '\\n']\n"
     ]
    }
   ],
   "source": [
    "pathname = '../dbt_packages/tenrox_procedures/docs/overview.md'\n",
    "\n",
    "overview_block = []\n",
    "\n",
    "with open(pathname,'r') as f:\n",
    "    lines = f.readlines()\n",
    "\n",
    "    open_block = False\n",
    "\n",
    "    for l in lines:\n",
    "        elements  = l.split()\n",
    "       \n",
    "        opening_block_line = False\n",
    "        closing_block_line = False\n",
    "\n",
    "        if len(elements) >= 3:\n",
    "            # Do I have the start of a block\n",
    "            if elements[0] == \"{%\" and elements[1] == \"docs\" and elements[2] == \"__overview__\":\n",
    "                open_block = True\n",
    "                opening_block_line = True\n",
    "            elif elements[0] == \"{%\" and elements[1] == \"enddocs\" and elements[2] == \"%}\":\n",
    "                open_block = False\n",
    "                closing_block_line = True\n",
    "\n",
    "\n",
    "\n",
    "        if open_block == True and opening_block_line == False:\n",
    "            print(l)\n",
    "            overview_block.append(l)\n",
    "\n",
    "print(overview_block)\n",
    "\n"
   ]
  },
  {
   "cell_type": "code",
   "execution_count": 23,
   "metadata": {},
   "outputs": [
    {
     "name": "stdout",
     "output_type": "stream",
     "text": [
      "/Users/jeremy/git/adp-astro-cso-analytics/dags/dbt/documentations/utils\n"
     ]
    }
   ],
   "source": [
    "!pwd"
   ]
  },
  {
   "cell_type": "code",
   "execution_count": 45,
   "metadata": {},
   "outputs": [
    {
     "name": "stdout",
     "output_type": "stream",
     "text": [
      "../dbt_packages/wfm_gps\n",
      "../dbt_packages/enterprise_dataset_usage_stats\n",
      "../dbt_packages/nps\n",
      "../dbt_packages/engagement_opportunities\n",
      "../dbt_packages/tenrox_procedures\n",
      "../dbt_packages/bi_layer\n"
     ]
    }
   ],
   "source": [
    "relative_path = \"../dbt_packages\"\n",
    "\n",
    "for directories in os.listdir(relative_path): \n",
    "    relative_directory = os.path.join(relative_path, directories)\n",
    "    print(relative_directory)\n",
    "    "
   ]
  },
  {
   "cell_type": "code",
   "execution_count": 50,
   "metadata": {},
   "outputs": [],
   "source": [
    "class DocumentationBlock:\n",
    "\n",
    "    def __init__(self,name):\n",
    "        self.name = name\n",
    "\n",
    "\n",
    "    def setblock_array(self, block):\n",
    "        self.block_array = block"
   ]
  },
  {
   "cell_type": "code",
   "execution_count": 52,
   "metadata": {},
   "outputs": [
    {
     "name": "stdout",
     "output_type": "stream",
     "text": [
      "<__main__.DocumentationBlock object at 0x104f287c0>\n"
     ]
    }
   ],
   "source": [
    "bi_block = DocumentationBlock(\"bi_layer\")\n",
    "print(bi_block)"
   ]
  },
  {
   "cell_type": "code",
   "execution_count": 64,
   "metadata": {},
   "outputs": [
    {
     "name": "stdout",
     "output_type": "stream",
     "text": [
      "CPU times: user 0 ns, sys: 1 µs, total: 1 µs\n",
      "Wall time: 6.91 µs\n"
     ]
    }
   ],
   "source": [
    "time"
   ]
  },
  {
   "cell_type": "code",
   "execution_count": 76,
   "metadata": {},
   "outputs": [
    {
     "name": "stdout",
     "output_type": "stream",
     "text": [
      "2023-02-17 16:50:27\n"
     ]
    }
   ],
   "source": [
    "utc_time = datetime.datetime.utcnow() \n",
    "print(utc_time.strftime('%Y-%m-%d %H:%M:%S'))"
   ]
  },
  {
   "cell_type": "code",
   "execution_count": null,
   "metadata": {},
   "outputs": [],
   "source": []
  }
 ],
 "metadata": {
  "kernelspec": {
   "display_name": "Python 3",
   "language": "python",
   "name": "python3"
  },
  "language_info": {
   "codemirror_mode": {
    "name": "ipython",
    "version": 3
   },
   "file_extension": ".py",
   "mimetype": "text/x-python",
   "name": "python",
   "nbconvert_exporter": "python",
   "pygments_lexer": "ipython3",
   "version": "3.9.16"
  },
  "orig_nbformat": 4,
  "vscode": {
   "interpreter": {
    "hash": "a665b5d41d17b532ea9890333293a1b812fa0b73c9c25c950b3cedf1bebd0438"
   }
  }
 },
 "nbformat": 4,
 "nbformat_minor": 2
}
